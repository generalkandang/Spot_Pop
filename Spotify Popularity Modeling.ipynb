{
 "cells": [
  {
   "cell_type": "code",
   "execution_count": 1,
   "metadata": {},
   "outputs": [],
   "source": [
    "import pandas as pd\n",
    "from datetime import datetime\n",
    "import numpy as np\n",
    "import matplotlib.pyplot as plt\n",
    "import seaborn as sns\n",
    "import scipy.stats as stats\n",
    "from matplotlib.colors import ListedColormap\n",
    "import pandas as pd\n",
    "pd.set_option('display.width', 500)\n",
    "pd.set_option('display.max_columns', 100)\n",
    "pd.set_option('display.notebook_repr_html', True)\n",
    "import seaborn as sns\n",
    "sns.set_style(\"whitegrid\")\n",
    "sns.set_context(\"poster\")\n",
    "import sklearn.model_selection\n",
    "from numpy.random import random\n",
    "from sklearn.preprocessing import StandardScaler, MinMaxScaler\n",
    "from sklearn import __version__ as sklearn_version\n",
    "from sklearn.decomposition import PCA\n",
    "from sklearn.preprocessing import scale\n",
    "from sklearn.model_selection import train_test_split, cross_validate, GridSearchCV, learning_curve\n",
    "from sklearn.preprocessing import StandardScaler, MinMaxScaler\n",
    "from sklearn.dummy import DummyRegressor\n",
    "from sklearn.linear_model import LinearRegression\n",
    "from sklearn.ensemble import RandomForestRegressor\n",
    "from sklearn.metrics import r2_score, mean_squared_error, mean_absolute_error\n",
    "from sklearn.pipeline import make_pipeline\n",
    "from sklearn.impute import SimpleImputer\n",
    "from sklearn.linear_model import Ridge\n",
    "from sklearn.linear_model import Lasso\n",
    "from sklearn.feature_selection import SelectKBest, f_regression"
   ]
  },
  {
   "cell_type": "code",
   "execution_count": 2,
   "metadata": {},
   "outputs": [],
   "source": [
    "#load data\n",
    "path = '/Users/dankang/Desktop/SpringBoard/Spotify/Data/Processed Data/EDA_Spotify_Data.csv'\n",
    "df = pd.read_csv(path)"
   ]
  },
  {
   "cell_type": "code",
   "execution_count": 3,
   "metadata": {},
   "outputs": [],
   "source": [
    "#median pop -drawdown and discuss metric\n",
    "key_features = ['popularity', 'acousticness', 'danceability', 'energy', 'instrumentalness', 'liveness', 'valence', 'year', 'median popularity']\n",
    "df1 = df[key_features]"
   ]
  },
  {
   "cell_type": "code",
   "execution_count": 4,
   "metadata": {},
   "outputs": [],
   "source": [
    "from sklearn.model_selection import train_test_split\n",
    "from sklearn.linear_model import LogisticRegression\n",
    "from sklearn.metrics import accuracy_score\n",
    "\n",
    "# Split the data into a training and test set.\n",
    "X_train, X_test, y_train, y_test = train_test_split(df1.drop(columns='popularity'), \n",
    "                                                    df1.popularity, test_size=0.2, \n",
    "                                                    random_state=47)"
   ]
  },
  {
   "cell_type": "code",
   "execution_count": 5,
   "metadata": {},
   "outputs": [
    {
     "data": {
      "text/html": [
       "<div>\n",
       "<style scoped>\n",
       "    .dataframe tbody tr th:only-of-type {\n",
       "        vertical-align: middle;\n",
       "    }\n",
       "\n",
       "    .dataframe tbody tr th {\n",
       "        vertical-align: top;\n",
       "    }\n",
       "\n",
       "    .dataframe thead th {\n",
       "        text-align: right;\n",
       "    }\n",
       "</style>\n",
       "<table border=\"1\" class=\"dataframe\">\n",
       "  <thead>\n",
       "    <tr style=\"text-align: right;\">\n",
       "      <th></th>\n",
       "      <th>acousticness</th>\n",
       "      <th>danceability</th>\n",
       "      <th>energy</th>\n",
       "      <th>instrumentalness</th>\n",
       "      <th>liveness</th>\n",
       "      <th>valence</th>\n",
       "      <th>year</th>\n",
       "      <th>median popularity</th>\n",
       "    </tr>\n",
       "  </thead>\n",
       "  <tbody>\n",
       "    <tr>\n",
       "      <th>count</th>\n",
       "      <td>106910.000000</td>\n",
       "      <td>106910.000000</td>\n",
       "      <td>106910.000000</td>\n",
       "      <td>106910.000000</td>\n",
       "      <td>106910.000000</td>\n",
       "      <td>106910.000000</td>\n",
       "      <td>106910.000000</td>\n",
       "      <td>106910.000000</td>\n",
       "    </tr>\n",
       "    <tr>\n",
       "      <th>mean</th>\n",
       "      <td>0.503016</td>\n",
       "      <td>0.538626</td>\n",
       "      <td>0.483317</td>\n",
       "      <td>0.168756</td>\n",
       "      <td>0.210545</td>\n",
       "      <td>0.533016</td>\n",
       "      <td>1975.844364</td>\n",
       "      <td>30.018492</td>\n",
       "    </tr>\n",
       "    <tr>\n",
       "      <th>std</th>\n",
       "      <td>0.378125</td>\n",
       "      <td>0.177638</td>\n",
       "      <td>0.268224</td>\n",
       "      <td>0.314406</td>\n",
       "      <td>0.179692</td>\n",
       "      <td>0.263611</td>\n",
       "      <td>26.289269</td>\n",
       "      <td>21.024161</td>\n",
       "    </tr>\n",
       "    <tr>\n",
       "      <th>min</th>\n",
       "      <td>0.000000</td>\n",
       "      <td>0.000000</td>\n",
       "      <td>0.000000</td>\n",
       "      <td>0.000000</td>\n",
       "      <td>0.000000</td>\n",
       "      <td>0.000000</td>\n",
       "      <td>1921.000000</td>\n",
       "      <td>0.000000</td>\n",
       "    </tr>\n",
       "    <tr>\n",
       "      <th>25%</th>\n",
       "      <td>0.100000</td>\n",
       "      <td>0.415000</td>\n",
       "      <td>0.255000</td>\n",
       "      <td>0.000000</td>\n",
       "      <td>0.099400</td>\n",
       "      <td>0.324000</td>\n",
       "      <td>1954.000000</td>\n",
       "      <td>9.000000</td>\n",
       "    </tr>\n",
       "    <tr>\n",
       "      <th>50%</th>\n",
       "      <td>0.515000</td>\n",
       "      <td>0.550000</td>\n",
       "      <td>0.472000</td>\n",
       "      <td>0.000235</td>\n",
       "      <td>0.138000</td>\n",
       "      <td>0.546000</td>\n",
       "      <td>1977.000000</td>\n",
       "      <td>33.000000</td>\n",
       "    </tr>\n",
       "    <tr>\n",
       "      <th>75%</th>\n",
       "      <td>0.900000</td>\n",
       "      <td>0.672000</td>\n",
       "      <td>0.705000</td>\n",
       "      <td>0.111000</td>\n",
       "      <td>0.270000</td>\n",
       "      <td>0.751000</td>\n",
       "      <td>1998.000000</td>\n",
       "      <td>46.000000</td>\n",
       "    </tr>\n",
       "    <tr>\n",
       "      <th>max</th>\n",
       "      <td>0.996000</td>\n",
       "      <td>0.988000</td>\n",
       "      <td>1.000000</td>\n",
       "      <td>1.000000</td>\n",
       "      <td>1.000000</td>\n",
       "      <td>1.000000</td>\n",
       "      <td>2020.000000</td>\n",
       "      <td>100.000000</td>\n",
       "    </tr>\n",
       "  </tbody>\n",
       "</table>\n",
       "</div>"
      ],
      "text/plain": [
       "        acousticness   danceability         energy  instrumentalness       liveness        valence           year  median popularity\n",
       "count  106910.000000  106910.000000  106910.000000     106910.000000  106910.000000  106910.000000  106910.000000      106910.000000\n",
       "mean        0.503016       0.538626       0.483317          0.168756       0.210545       0.533016    1975.844364          30.018492\n",
       "std         0.378125       0.177638       0.268224          0.314406       0.179692       0.263611      26.289269          21.024161\n",
       "min         0.000000       0.000000       0.000000          0.000000       0.000000       0.000000    1921.000000           0.000000\n",
       "25%         0.100000       0.415000       0.255000          0.000000       0.099400       0.324000    1954.000000           9.000000\n",
       "50%         0.515000       0.550000       0.472000          0.000235       0.138000       0.546000    1977.000000          33.000000\n",
       "75%         0.900000       0.672000       0.705000          0.111000       0.270000       0.751000    1998.000000          46.000000\n",
       "max         0.996000       0.988000       1.000000          1.000000       1.000000       1.000000    2020.000000         100.000000"
      ]
     },
     "execution_count": 5,
     "metadata": {},
     "output_type": "execute_result"
    }
   ],
   "source": [
    "X_train.describe()"
   ]
  },
  {
   "cell_type": "code",
   "execution_count": 6,
   "metadata": {},
   "outputs": [],
   "source": [
    "#scale the data\n",
    "scaler = StandardScaler()\n",
    "scaler.fit(X_train)\n",
    "X_tr_scaled = scaler.transform(X_train)\n",
    "X_te_scaled = scaler.transform(X_test)"
   ]
  },
  {
   "cell_type": "markdown",
   "metadata": {},
   "source": [
    "We will effectively run 3 different modeling scenarios: standard linear regression, a random forest, and KNN, and we will assess performance via Correlation Coefficient, Mean Absolute Error, and Root Mean Squared Error. \n",
    "\n",
    "Based on the work conducted during pre processing, I'd expect a standard linear regression model could/should serve just fine given the reduced feature set we will be using, so further work could be done to assess all other features; however, given the other features' relatively low correlation with popularity (most have R^2 < 0.3), for simplicity we exclude those features.  \n"
   ]
  },
  {
   "cell_type": "code",
   "execution_count": 7,
   "metadata": {},
   "outputs": [],
   "source": [
    "#Linear Regression\n",
    "lm = LinearRegression().fit(X_tr_scaled, y_train)"
   ]
  },
  {
   "cell_type": "code",
   "execution_count": 8,
   "metadata": {},
   "outputs": [],
   "source": [
    "y_tr_pred = lm.predict(X_tr_scaled)\n",
    "y_te_pred = lm.predict(X_te_scaled)"
   ]
  },
  {
   "cell_type": "code",
   "execution_count": 9,
   "metadata": {},
   "outputs": [
    {
     "name": "stdout",
     "output_type": "stream",
     "text": [
      "RMSE Training Set = 8.087\n",
      "RMSE Test Set = 7.953\n"
     ]
    }
   ],
   "source": [
    "#Mean Squared Error \n",
    "from sklearn.metrics import mean_squared_error as mse\n",
    "LR_tr_rmse = np.sqrt(mse(y_train, y_tr_pred))\n",
    "LR_te_rmse = np.sqrt(mse(y_test, y_te_pred))\n",
    "print(f\"RMSE Training Set = {LR_tr_rmse:.3f}\")\n",
    "print(f\"RMSE Test Set = {LR_te_rmse:.3f}\")"
   ]
  },
  {
   "cell_type": "code",
   "execution_count": 10,
   "metadata": {},
   "outputs": [
    {
     "data": {
      "text/plain": [
       "(0.8696329040638551, 0.8732499569027268)"
      ]
     },
     "execution_count": 10,
     "metadata": {},
     "output_type": "execute_result"
    }
   ],
   "source": [
    "#R2\n",
    "r2_score(y_train, y_tr_pred), r2_score(y_test, y_te_pred)"
   ]
  },
  {
   "cell_type": "code",
   "execution_count": 11,
   "metadata": {},
   "outputs": [
    {
     "name": "stdout",
     "output_type": "stream",
     "text": [
      "Mean Absolute Error of Training Set = 5.267\n",
      "Mean Absolute Error of Test Set = 5.252\n"
     ]
    }
   ],
   "source": [
    "#Mean absolute error\n",
    "from sklearn.metrics import mean_absolute_error\n",
    "LR_tr_mae = mean_absolute_error(y_train, y_tr_pred)\n",
    "LR_te_mae = mean_absolute_error(y_test, y_te_pred)\n",
    "print(f\"Mean Absolute Error of Training Set = {LR_tr_mae:.3f}\")\n",
    "print(f\"Mean Absolute Error of Test Set = {LR_te_mae:.3f}\")"
   ]
  },
  {
   "cell_type": "code",
   "execution_count": 12,
   "metadata": {},
   "outputs": [
    {
     "data": {
      "image/png": "[encoded data removed]",
      "text/plain": [
       "<Figure size 432x288 with 1 Axes>"
      ]
     },
     "metadata": {},
     "output_type": "display_data"
    }
   ],
   "source": [
    "#lets look at the residuals\n",
    "sns.residplot(x = y_te_pred, y = y_test - y_te_pred)\n",
    "plt.title('Residuals, Linear Regression Base Model', size = 14)\n",
    "plt.ylabel('Residuals', size = 12)\n",
    "plt.xlabel('Forecasted Song Popularity', size = 12)\n",
    "plt.show()"
   ]
  },
  {
   "cell_type": "code",
   "execution_count": 13,
   "metadata": {},
   "outputs": [
    {
     "data": {
      "image/png": "[encoded data removed]",
      "text/plain": [
       "<Figure size 432x288 with 1 Axes>"
      ]
     },
     "metadata": {},
     "output_type": "display_data"
    }
   ],
   "source": [
    "plt.hist(y_test - y_te_pred, bins = np.arange(-40, 50, 5))\n",
    "plt.title('Residual Distribution, Linear Regression Base Model', size = 14)\n",
    "plt.ylabel('Residuals', size = 12)\n",
    "plt.xlabel('Forecasted Song Popularity', size = 12)\n",
    "plt.show()"
   ]
  },
  {
   "cell_type": "markdown",
   "metadata": {},
   "source": [
    "The residuals are centered slightly below 0, and there's a decent right skewed distribution: this skew represents songs that are *more* popular than what our model is predicting. Lets try to fine tune the linear model. "
   ]
  },
  {
   "cell_type": "code",
   "execution_count": 14,
   "metadata": {},
   "outputs": [
    {
     "name": "stdout",
     "output_type": "stream",
     "text": [
      "alpha:   1e-05 | train MSE: 8.0868151002 | test MSE: 7.952803907\n",
      "alpha:  0.0001 | train MSE: 8.0868151002 | test MSE: 7.9528039068\n",
      "alpha:   0.001 | train MSE: 8.0868151002 | test MSE: 7.9528039053\n",
      "alpha:    0.01 | train MSE: 8.0868151002 | test MSE: 7.9528038903\n",
      "alpha:     0.1 | train MSE: 8.0868151003 | test MSE: 7.9528037401\n",
      "alpha:       1 | train MSE: 8.0868151073 | test MSE: 7.952802245\n",
      "alpha:      10 | train MSE: 8.0868158039 | test MSE: 7.9527879347\n",
      "alpha:     100 | train MSE: 8.0868844331 | test MSE: 7.9527079107\n"
     ]
    }
   ],
   "source": [
    "#ridge regression\n",
    "alphas = [0.00001, 0.0001, 0.001, 0.01, 0.1, 1, 10, 100]\n",
    "\n",
    "for alpha in alphas:\n",
    "    ridge = Ridge(alpha = alpha, fit_intercept = True, random_state = 1)\n",
    "    ridge.fit(X_tr_scaled, y_train)\n",
    "    train_error = np.sqrt(mean_squared_error(y_train, ridge.predict(X_tr_scaled)))\n",
    "    test_error = np.sqrt(mean_squared_error(y_test, ridge.predict(X_te_scaled)))\n",
    "    print('alpha: {:7} | train MSE: {:5} | test MSE: {:6}'.\n",
    "          format(alpha,\n",
    "                 round(train_error,10),\n",
    "                 round(test_error,10)))\n",
    "    \n",
    "    #print('alpha: {:7} | train r2: {:5} | test r2: {:6}'.\n",
    "     #     format(alpha,\n",
    "      #           round(r2_score(y_train, ridge.predict(X_tr_scaled)),10),\n",
    "       #          round(r2_score(y_test, ridge.predict(X_te_scaled)),10)))"
   ]
  },
  {
   "cell_type": "code",
   "execution_count": 15,
   "metadata": {},
   "outputs": [
    {
     "name": "stdout",
     "output_type": "stream",
     "text": [
      "Ridge(alpha=1, copy_X=True, fit_intercept=True, max_iter=None, normalize=False,\n",
      "      random_state=None, solver='auto', tol=0.001)\n"
     ]
    }
   ],
   "source": [
    "#verify with GridSearchCV\n",
    "parameters = {'alpha': alphas}\n",
    "model = Ridge()\n",
    "Ridge_reg= GridSearchCV(model, parameters, scoring='neg_mean_squared_error',cv=5)\n",
    "\n",
    "#fit the grid search\n",
    "Ridge_reg.fit(X_tr_scaled,y_train)\n",
    "\n",
    "# best estimator\n",
    "print(Ridge_reg.best_estimator_)"
   ]
  },
  {
   "cell_type": "markdown",
   "metadata": {},
   "source": [
    "Lets use alpha = .001"
   ]
  },
  {
   "cell_type": "code",
   "execution_count": 16,
   "metadata": {},
   "outputs": [
    {
     "data": {
      "text/plain": [
       "Ridge(alpha=1, copy_X=True, fit_intercept=True, max_iter=None, normalize=False,\n",
       "      random_state=None, solver='auto', tol=0.001)"
      ]
     },
     "execution_count": 16,
     "metadata": {},
     "output_type": "execute_result"
    }
   ],
   "source": [
    "#fit with alpha = .01\n",
    "#ridge = Ridge(alpha = .001)\n",
    "#ridge.fit(X_tr_scaled, y_train)\n",
    "# best model\n",
    "ridge = Ridge_reg.best_estimator_\n",
    "ridge.fit(X_tr_scaled,y_train)"
   ]
  },
  {
   "cell_type": "code",
   "execution_count": 17,
   "metadata": {},
   "outputs": [
    {
     "name": "stdout",
     "output_type": "stream",
     "text": [
      "Lasso(alpha=1e-05, copy_X=True, fit_intercept=True, max_iter=1000,\n",
      "      normalize=False, positive=False, precompute=False, random_state=None,\n",
      "      selection='cyclic', tol=0.0001, warm_start=False)\n"
     ]
    }
   ],
   "source": [
    "#verify with GridSearchCV\n",
    "parameters = {'alpha': alphas}\n",
    "model = Lasso()\n",
    "lasso_reg = GridSearchCV(model, parameters, scoring='neg_mean_squared_error',cv=5)\n",
    "\n",
    "#fit the grid search\n",
    "lasso_reg.fit(X_tr_scaled,y_train)\n",
    "\n",
    "# best estimator\n",
    "print(lasso_reg.best_estimator_)"
   ]
  },
  {
   "cell_type": "code",
   "execution_count": 18,
   "metadata": {},
   "outputs": [
    {
     "data": {
      "text/plain": [
       "Lasso(alpha=1e-05, copy_X=True, fit_intercept=True, max_iter=1000,\n",
       "      normalize=False, positive=False, precompute=False, random_state=None,\n",
       "      selection='cyclic', tol=0.0001, warm_start=False)"
      ]
     },
     "execution_count": 18,
     "metadata": {},
     "output_type": "execute_result"
    }
   ],
   "source": [
    "#fit best lasso\n",
    "lasso = lasso_reg.best_estimator_\n",
    "lasso.fit(X_tr_scaled,y_train)"
   ]
  },
  {
   "cell_type": "code",
   "execution_count": 19,
   "metadata": {},
   "outputs": [
    {
     "name": "stdout",
     "output_type": "stream",
     "text": [
      "Base Linear Regression Train Score:       0.8696329040638551\n",
      "Base Linear Regression Test Score:  0.8732499569027268\n",
      "--------------------------------------------------------------------------------\n",
      "Ridge Regression Train Score:             0.869632903836639\n",
      "Ridge Regression Test Score:        0.8732500098793184\n",
      "--------------------------------------------------------------------------------\n",
      "Lasso Regression Train Score:             0.8696329040598028\n",
      "Lasso Regression Test Score:         0.8732499674113304\n"
     ]
    }
   ],
   "source": [
    "print('Base Linear Regression Train Score:      ', lm.score(X_tr_scaled, y_train))\n",
    "print('Base Linear Regression Test Score: ', lm.score(X_te_scaled, y_test))\n",
    "print('-'*80)\n",
    "print('Ridge Regression Train Score:            ', ridge.score(X_tr_scaled, y_train))\n",
    "print('Ridge Regression Test Score:       ', ridge.score(X_te_scaled, y_test))\n",
    "print('-'*80)\n",
    "print('Lasso Regression Train Score:            ', lasso.score(X_tr_scaled, y_train))\n",
    "print('Lasso Regression Test Score:        ', lasso.score(X_te_scaled, y_test))"
   ]
  },
  {
   "cell_type": "markdown",
   "metadata": {},
   "source": [
    "Our Ridge Regression gets us the best score on the test set. Lets move on to random forest. "
   ]
  },
  {
   "cell_type": "code",
   "execution_count": 20,
   "metadata": {},
   "outputs": [
    {
     "data": {
      "text/plain": [
       "RandomForestRegressor(bootstrap=True, ccp_alpha=0.0, criterion='mse',\n",
       "                      max_depth=None, max_features='auto', max_leaf_nodes=None,\n",
       "                      max_samples=None, min_impurity_decrease=0.0,\n",
       "                      min_impurity_split=None, min_samples_leaf=1,\n",
       "                      min_samples_split=2, min_weight_fraction_leaf=0.0,\n",
       "                      n_estimators=100, n_jobs=None, oob_score=False,\n",
       "                      random_state=42, verbose=0, warm_start=False)"
      ]
     },
     "execution_count": 20,
     "metadata": {},
     "output_type": "execute_result"
    }
   ],
   "source": [
    "from sklearn.ensemble import RandomForestRegressor\n",
    "\n",
    "rf = RandomForestRegressor(random_state=42)\n",
    "rf.fit(X_tr_scaled, y_train)"
   ]
  },
  {
   "cell_type": "code",
   "execution_count": 21,
   "metadata": {},
   "outputs": [],
   "source": [
    "rf_pred = rf.predict(X_te_scaled)\n",
    "rf_tr_score = rf.score(X_tr_scaled, y_train)\n",
    "rf_te_score = rf.score(X_te_scaled, y_test)\n",
    "rf_mae = np.mean(abs(rf_pred - y_test))\n",
    "rf_rmse = np.sqrt(mean_squared_error(y_test, rf_pred))"
   ]
  },
  {
   "cell_type": "code",
   "execution_count": 22,
   "metadata": {},
   "outputs": [
    {
     "name": "stdout",
     "output_type": "stream",
     "text": [
      "Base Random Forest Train Score:       0.9829180789475191\n",
      "Base Random Forest Test Score:  0.8811599967332122\n",
      "Base Random Forest MAE:               5.0065475136352955\n",
      "Base Random Forest RMSE:              7.700652819235559\n"
     ]
    }
   ],
   "source": [
    "print('Base Random Forest Train Score:      ', rf_tr_score)\n",
    "print('Base Random Forest Test Score: ', rf_te_score)\n",
    "print('Base Random Forest MAE:              ',rf_mae)\n",
    "print('Base Random Forest RMSE:             ',rf_rmse)"
   ]
  },
  {
   "cell_type": "markdown",
   "metadata": {},
   "source": [
    "So our baseline Random Forest model has already performed better on all metrics vs our linear, ridge, and lasso regression models, with higher train and test scores along with lower MAEs and RMSEs. However it is clearly overfitting on the training set. Lets adjust for hyper parameters. "
   ]
  },
  {
   "cell_type": "code",
   "execution_count": null,
   "metadata": {},
   "outputs": [
    {
     "name": "stdout",
     "output_type": "stream",
     "text": [
      "Automatically created module for IPython interactive environment\n"
     ]
    },
    {
     "name": "stderr",
     "output_type": "stream",
     "text": [
      "/Users/dankang/opt/anaconda3/lib/python3.7/site-packages/sklearn/ensemble/_forest.py:815: UserWarning: Some inputs do not have OOB scores. This probably means too few trees were used to compute any reliable oob estimates.\n",
      "  warn(\"Some inputs do not have OOB scores. \"\n",
      "/Users/dankang/opt/anaconda3/lib/python3.7/site-packages/sklearn/ensemble/_forest.py:815: UserWarning: Some inputs do not have OOB scores. This probably means too few trees were used to compute any reliable oob estimates.\n",
      "  warn(\"Some inputs do not have OOB scores. \"\n"
     ]
    }
   ],
   "source": [
    "import matplotlib.pyplot as plt\n",
    "from collections import OrderedDict\n",
    "from sklearn.ensemble import RandomForestRegressor\n",
    "\n",
    "#This section of code adapted from code by Kian Ho, Gilles Louppe, and Andreas Meuller\n",
    "#found in sklearn documentation at:\n",
    "#http://scikit-learn.org/stable/auto_examples/ensemble/plot_ensemble_oob.html#sphx-glr-\n",
    "#auto-examples-ensemble-plot-ensemble-oob-py\n",
    "\n",
    "# Author: Kian Ho <hui.kian.ho@gmail.com>\n",
    "#         Gilles Louppe <g.louppe@gmail.com>\n",
    "#         Andreas Mueller <amueller@ais.uni-bonn.de>\n",
    "#\n",
    "# License: BSD 3 Clause\n",
    "\n",
    "print(__doc__)\n",
    "\n",
    "random_state = 42\n",
    "\n",
    "# Generate a binary classification dataset.\n",
    "#X, y = make_classification(n_samples = 500, n_features=25,\n",
    "#                           n_clusters_per_class = 1, n_informative = 15,\n",
    "#                           random_state = random_state)\n",
    "\n",
    "# NOTE: Setting the `warm_start` construction parameter to `True` disables\n",
    "# support for parallelized ensembles but is necessary for tracking the OOB\n",
    "# error trajectory during training.\n",
    "ensemble_clfs = [\n",
    "    (\"RandomForestRegressor, max_features = 'sqrt'\",\n",
    "        RandomForestRegressor(n_estimators = 100,\n",
    "                               warm_start = True,\n",
    "                               oob_score = True,\n",
    "                               max_features = \"sqrt\",\n",
    "                               random_state = random_state,\n",
    "                               n_jobs = -1)),\n",
    "    (\"RandomForestRegressor, max_features = log2\",\n",
    "        RandomForestRegressor(n_estimators = 100,\n",
    "                               warm_start = True,\n",
    "                               max_features = 'log2',\n",
    "                               oob_score = True,\n",
    "                               random_state = random_state,\n",
    "                               n_jobs = -1)),\n",
    "    (\"RandomForestRegressor, max_features = None\",\n",
    "        RandomForestRegressor(n_estimators = 100,\n",
    "                               warm_start = True,\n",
    "                               max_features = None,\n",
    "                               oob_score = True,\n",
    "                               random_state = random_state,\n",
    "                               n_jobs = -1))\n",
    "]\n",
    "\n",
    "# Map a classifier name to a list of (<n_estimators>, <error rate>) pairs.\n",
    "error_rate = OrderedDict((label, []) for label, _ in ensemble_clfs)\n",
    "\n",
    "# Range of `n_estimators` values to explore.\n",
    "min_estimators = 10\n",
    "max_estimators = 400\n",
    "\n",
    "for label, clf in ensemble_clfs:\n",
    "    for i in range(min_estimators, max_estimators + 1, 10):\n",
    "        clf.set_params(n_estimators = i)\n",
    "        clf.fit(X_tr_scaled, y_train)\n",
    "\n",
    "        # Record the OOB error for each `n_estimators=i` setting.\n",
    "        oob_error = 1 - clf.oob_score_\n",
    "        error_rate[label].append((i, oob_error))\n",
    "\n",
    "# Generate the \"OOB error rate\" vs. \"n_estimators\" plot.\n",
    "for label, clf_err in error_rate.items():\n",
    "    xs, ys = zip(*clf_err)\n",
    "    plt.plot(xs, ys, label=label)\n",
    "\n",
    "plt.xlim(min_estimators, max_estimators)\n",
    "plt.title('Random Forest OOB Error Rate by n_estimators')\n",
    "plt.xlabel(\"n_estimators\")\n",
    "plt.ylabel(\"OOB error rate\")\n",
    "plt.legend(loc = \"upper right\")\n",
    "plt.show()"
   ]
  },
  {
   "cell_type": "markdown",
   "metadata": {},
   "source": [
    "From this we can see using n_estimators of 200-300 would be ideal (we didnt specify these parameters in our baseline model)."
   ]
  },
  {
   "cell_type": "code",
   "execution_count": null,
   "metadata": {},
   "outputs": [],
   "source": [
    "#fine tune our Random Forest Model -- could add max_feat to GridSearchCV\n",
    "rf_tuned_300 = RandomForestRegressor(n_estimators = 300, max_features = 'log2', n_jobs = -1, random_state = 42, oob_score = True)\n",
    "rf_tuned_300.fit(X_tr_scaled, y_train)\n"
   ]
  },
  {
   "cell_type": "code",
   "execution_count": null,
   "metadata": {},
   "outputs": [],
   "source": [
    "\n",
    "rf_pred_300 = rf_tuned_300.predict(X_te_scaled)\n",
    "rf_tr_score_300 = rf_tuned_300.score(X_tr_scaled, y_train)\n",
    "rf_te_score_300 = rf_tuned_300.score(X_te_scaled, y_test)\n",
    "rf_mae_300 = np.mean(abs(rf_pred_300 - y_test))\n",
    "rf_rmse_300 = np.sqrt(mean_squared_error(y_test, rf_pred_300))"
   ]
  },
  {
   "cell_type": "code",
   "execution_count": null,
   "metadata": {},
   "outputs": [],
   "source": [
    "print('n=300 Random Forest Train Score:      ', rf_tr_score_300)\n",
    "print('n=300 Random Forest Test Score: ', rf_te_score_300)\n",
    "print('n=300 Random Forest MAE:              ',rf_mae_300)\n",
    "print('n=300 Random Forest RMSE:             ',rf_rmse_300)"
   ]
  },
  {
   "cell_type": "markdown",
   "metadata": {},
   "source": [
    "This improved over our initial random forest model but is still overfitting. We will try to limit max depth and then fine tune further for n_estimators = 400"
   ]
  },
  {
   "cell_type": "code",
   "execution_count": null,
   "metadata": {},
   "outputs": [],
   "source": [
    "rf_tuned_300 = RandomForestRegressor(n_estimators = 300, max_features = 'log2', n_jobs = -1, random_state = 42, oob_score = True, max_depth =14)\n",
    "rf_tuned_300.fit(X_tr_scaled, y_train)\n",
    "rf_pred_300 = rf_tuned_300.predict(X_te_scaled)\n",
    "rf_tr_score_300 = rf_tuned_300.score(X_tr_scaled, y_train)\n",
    "rf_te_score_300 = rf_tuned_300.score(X_te_scaled, y_test)\n",
    "rf_mae_300 = np.mean(abs(rf_pred_300 - y_test))\n",
    "rf_rmse_300 = np.sqrt(mean_squared_error(y_test, rf_pred_300))\n",
    "print('n=300 Random Forest Train Score:      ', rf_tr_score_300)\n",
    "print('n=300 Random Forest Test Score: ', rf_te_score_300)\n",
    "print('n=300 Random Forest MAE:              ',rf_mae_300)\n",
    "print('n=300 Random Forest RMSE:             ',rf_rmse_300)"
   ]
  },
  {
   "cell_type": "markdown",
   "metadata": {},
   "source": [
    "after trial and error, we arrive at m = 14 for max_Depth. now fine tune for n_estimators again."
   ]
  },
  {
   "cell_type": "code",
   "execution_count": null,
   "metadata": {},
   "outputs": [],
   "source": [
    "#fine tune our Random Forest Model\n",
    "rf_tuned_400 = RandomForestRegressor(n_estimators = 400, max_features = 'log2', n_jobs = -1, random_state = 42, oob_score = True, max_depth=14)\n",
    "rf_tuned_400.fit(X_tr_scaled, y_train)\n",
    "\n",
    "rf_pred_400 = rf_tuned_400.predict(X_te_scaled)\n",
    "rf_tr_score_400 = rf_tuned_400.score(X_tr_scaled, y_train)\n",
    "rf_te_score_400 = rf_tuned_400.score(X_te_scaled, y_test)\n",
    "rf_mae_400 = np.mean(abs(rf_pred_400 - y_test))\n",
    "rf_rmse_400 = np.sqrt(mean_squared_error(y_test, rf_pred_400))"
   ]
  },
  {
   "cell_type": "code",
   "execution_count": null,
   "metadata": {},
   "outputs": [],
   "source": [
    "print('n=400 Random Forest Train Score:      ', rf_tr_score_400)\n",
    "print('n=400 Random Forest Test Score: ', rf_te_score_400)\n",
    "print('n=400 Random Forest MAE:              ',rf_mae_400)\n",
    "print('n=400 Random Forest RMSE:             ',rf_rmse_400)"
   ]
  },
  {
   "cell_type": "markdown",
   "metadata": {},
   "source": [
    "Sure enough, n = 400 got us the best performance. Lets finally try KN Regressor and then select our final model. https://scikit-learn.org/stable/modules/generated/sklearn.neighbors.KNeighborsRegressor.html"
   ]
  },
  {
   "cell_type": "code",
   "execution_count": null,
   "metadata": {},
   "outputs": [],
   "source": [
    "from sklearn.neighbors import KNeighborsRegressor\n",
    "RMSE_train, RMSE_test = [], []\n",
    "  \n",
    "for i in range(5,101,5):\n",
    "  knn = KNeighborsRegressor(n_neighbors=i)\n",
    "  knn.fit(X_train,y_train)\n",
    "  y_train_pred = knn.predict(X_tr_scaled)\n",
    "  knn_train_rmse = np.sqrt(mse(y_train, y_train_pred))\n",
    "  RMSE_train.append(knn_train_rmse.round(5))\n",
    "  y_test_pred = knn.predict(X_te_scaled)\n",
    "  knn_test_rmse = np.sqrt(mse(y_test, y_test_pred))\n",
    "  RMSE_test.append(knn_test_rmse.round(5))"
   ]
  },
  {
   "cell_type": "code",
   "execution_count": null,
   "metadata": {},
   "outputs": [],
   "source": [
    "fig, ax = plt.subplots(figsize=(15,4))\n",
    "x = np.arange(5, 101, 5)\n",
    "ax = sns.lineplot(x=x, y=RMSE_train)\n",
    "sns.lineplot(x=x, y=RMSE_test, ax=ax)\n",
    "ax.legend(labels=['RMSE_train', 'RMSE_test'], bbox_to_anchor=(1, 1))\n",
    "ax.set_xlabel('Neighbors')\n",
    "ax.set_ylabel('RMSE')\n",
    "ax.set_xticks(np.arange(5,101,5))\n",
    "ax.set_title('KNN with 10 <= n-neighbors < 100', c='b', fontdict={'c':'b', 'fontsize':16, 'weight':'bold'})\n",
    "plt.show()"
   ]
  },
  {
   "cell_type": "code",
   "execution_count": null,
   "metadata": {},
   "outputs": [],
   "source": [
    "RMSE_train, RMSE_test = [], []\n",
    "  \n",
    "for i in range(100,251,5):\n",
    "  knn = KNeighborsRegressor(n_neighbors=i)\n",
    "  knn.fit(X_train,y_train)\n",
    "  y_train_pred = knn.predict(X_tr_scaled)\n",
    "  knn_train_rmse = np.sqrt(mse(y_train, y_train_pred))\n",
    "  RMSE_train.append(knn_train_rmse.round(5))\n",
    "  y_test_pred = knn.predict(X_te_scaled)\n",
    "  knn_test_rmse = np.sqrt(mse(y_test, y_test_pred))\n",
    "  RMSE_test.append(knn_test_rmse.round(5))"
   ]
  },
  {
   "cell_type": "code",
   "execution_count": null,
   "metadata": {},
   "outputs": [],
   "source": [
    "fig, ax = plt.subplots(figsize=(15,4))\n",
    "x = np.arange(100, 251, 5)\n",
    "ax = sns.lineplot(x=x, y=RMSE_train)\n",
    "sns.lineplot(x=x, y=RMSE_test, ax=ax)\n",
    "ax.legend(labels=['RMSE_train', 'RMSE_test'])\n",
    "ax.set_xlabel('Neighbors')\n",
    "ax.set_ylabel('RMSE')\n",
    "ax.set_xticks(np.arange(100,201,5))\n",
    "ax.set_title('KNN with 100 <= n-neighbors < 250', c='b', fontdict={'c':'b', 'fontsize':16, 'weight':'bold'})\n",
    "plt.show()"
   ]
  },
  {
   "cell_type": "markdown",
   "metadata": {},
   "source": [
    "In both instances the RMSE is way too high. We will go with with our Random Forest Model. "
   ]
  },
  {
   "cell_type": "code",
   "execution_count": null,
   "metadata": {
    "scrolled": true
   },
   "outputs": [],
   "source": [
    "ax = sns.scatterplot(x=y_test, y=rf_pred_400)\n",
    "ax.plot(y_train, y_train, 'b')\n",
    "ax.set_ylabel('popularity prediction')\n",
    "plt.show()"
   ]
  },
  {
   "cell_type": "code",
   "execution_count": null,
   "metadata": {},
   "outputs": [],
   "source": [
    "print('Final Random Forest Train Score:      ', rf_tr_score_400)\n",
    "print('Final Random Forest Test Score: ', rf_te_score_400)\n",
    "print('Final Random Forest MAE:              ',rf_mae_400)\n",
    "print('Final Random Forest RMSE:             ',rf_rmse_400)"
   ]
  },
  {
   "cell_type": "code",
   "execution_count": null,
   "metadata": {},
   "outputs": [],
   "source": []
  }
 ],
 "metadata": {
  "kernelspec": {
   "display_name": "Python 3",
   "language": "python",
   "name": "python3"
  },
  "language_info": {
   "codemirror_mode": {
    "name": "ipython",
    "version": 3
   },
   "file_extension": ".py",
   "mimetype": "text/x-python",
   "name": "python",
   "nbconvert_exporter": "python",
   "pygments_lexer": "ipython3",
   "version": "3.7.6"
  }
 },
 "nbformat": 4,
 "nbformat_minor": 4
}
